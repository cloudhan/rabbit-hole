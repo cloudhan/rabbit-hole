{
 "cells": [
  {
   "cell_type": "code",
   "execution_count": null,
   "metadata": {},
   "outputs": [],
   "source": [
    "from benchmark_driver import *"
   ]
  },
  {
   "cell_type": "code",
   "execution_count": null,
   "metadata": {},
   "outputs": [],
   "source": [
    "benchmark_plot(\n",
    "  benchmark(matmul_reference, range(16, 2048, 16), cached=True),\n",
    "  benchmark(matmul_IJP, range(32, 1024, 128), cached=True),\n",
    "  benchmark(matmul_JIP, range(32, 1024, 128), cached=True),\n",
    "  benchmark(matmul_PIJ, range(32, 1024, 128), cached=True),\n",
    "  benchmark(matmul_PJI, range(32, 1024, 128), cached=True),\n",
    "  benchmark(matmul_IPJ, range(32, 1024, 128), cached=True),\n",
    "  benchmark(matmul_JPI, range(32, 1024, 128), cached=True),\n",
    ")"
   ]
  },
  {
   "cell_type": "code",
   "execution_count": null,
   "metadata": {},
   "outputs": [],
   "source": [
    "benchmark_plot(\n",
    "  benchmark(matmul_reference, range(16, 2048, 16), cached=True),\n",
    "  benchmark(matmul_IJP, range(32, 1024, 128), cached=True),\n",
    "  benchmark(matmul_JIP, range(32, 1024, 128), cached=True),\n",
    "  benchmark(matmul_tile_IJ_naive_4x4, range(32, 2048, 32), cached=True),\n",
    "  benchmark(matmul_tile_JI_naive_4x4, range(32, 2048, 32), cached=True),\n",
    ")"
   ]
  },
  {
   "cell_type": "code",
   "execution_count": null,
   "metadata": {},
   "outputs": [],
   "source": [
    "benchmark_plot(\n",
    "  benchmark(matmul_reference, range(16, 2048, 16), cached=True),\n",
    "  benchmark(matmul_tile_IJ_naive_4x4, range(32, 2048, 32), cached=True),\n",
    "  benchmark(matmul_tile_JI_naive_4x4, range(32, 2048, 32), cached=True),\n",
    "  benchmark(matmul_tile_IJ_avx_4x4, range(32, 2048, 32), cached=True),\n",
    "  benchmark(matmul_tile_JI_avx_4x4, range(32, 2048, 32), cached=True),\n",
    "  benchmark(matmul_tile_IJ_avx2_8x4, range(32, 2048, 32), cached=True),\n",
    "  benchmark(matmul_tile_JI_avx2_8x4, range(32, 2048, 32), cached=True),\n",
    ")"
   ]
  },
  {
   "cell_type": "code",
   "execution_count": null,
   "metadata": {},
   "outputs": [],
   "source": [
    "benchmark_plot(\n",
    "  benchmark(matmul_reference, range(16, 2048, 16), cached=True),\n",
    "  benchmark(matmul_tile_IJ_avx2_8x4, range(32, 2048, 32), cached=True),\n",
    "  benchmark(matmul_tile_JI_avx2_8x4, range(32, 2048, 32), cached=True),\n",
    "\n",
    "  benchmark(matmul_simple_pipeline_8x4, range(32, 2048, 32), cached=True),\n",
    "  benchmark(matmul_simple_pipeline_16x4, range(32, 2048, 32), cached=True),\n",
    "  benchmark(matmul_simple_pipeline_16x6, range(48, 2048, 48), cached=True),\n",
    "  benchmark(matmul_simple_pipeline_16x8, range(48, 2048, 48), cached=True),\n",
    ")"
   ]
  },
  {
   "cell_type": "code",
   "execution_count": null,
   "metadata": {},
   "outputs": [],
   "source": [
    "\n",
    "benchmark_plot(\n",
    "  benchmark(matmul_reference, range(16, 2048, 16), cached=True),\n",
    "\n",
    "  benchmark(matmul_simple_pipeline_16x6, range(48, 2048, 48), cached=True),\n",
    "  benchmark(matmul_fiveloop_pipeline_JPI_96_96_96_16x6, range(96, 2048, 96), cached=True),\n",
    "  benchmark(matmul_fiveloop_pipeline_JPI_144_144_144_16x6, range(144, 2048, 144), cached=True),\n",
    ")"
   ]
  },
  {
   "cell_type": "code",
   "execution_count": null,
   "metadata": {},
   "outputs": [],
   "source": [
    "benchmark_plot(\n",
    "  benchmark(matmul_reference, range(16, 2048, 16), cached=True),\n",
    "\n",
    "  benchmark(matmul_simple_pipeline_16x6, range(48, 2048, 48), cached=True),\n",
    "  benchmark(matmul_fiveloop_pipeline_JPI_96_96_96_16x6, range(96, 2048, 96), cached=True),\n",
    "  benchmark(matmul_fiveloop_pipeline_JPI_144_144_144_16x6, range(144, 2048, 144), cached=True),\n",
    "\n",
    "  benchmark(matmul_fiveloop_pipeline_copied_JPI_144_96_144_16x6, range(48, 2048, 48), cached=True),\n",
    "  benchmark(matmul_fiveloop_pipeline_copied_JPI_320_2016_60_16x6, range(48, 2048, 48), cached=True),\n",
    ")"
   ]
  },
  {
   "cell_type": "code",
   "execution_count": null,
   "metadata": {},
   "outputs": [],
   "source": [
    "benchmark_plot(\n",
    "  benchmark(matmul_reference, range(16, 2048, 16), cached=True),\n",
    "\n",
    "  benchmark(matmul_fiveloop_pipeline_copied_JPI_320_2016_60_16x6, range(48, 2048, 48), cached=True),\n",
    "\n",
    "  benchmark(matmul_fiveloop_pipeline_packed_JPI_144_96_144_16x6, range(48, 2048, 48), cached=True),\n",
    "  benchmark(matmul_fiveloop_pipeline_packed_JPI_320_2016_60_16x6, range(48, 2048, 48), cached=True),\n",
    ")"
   ]
  }
 ],
 "metadata": {
  "kernelspec": {
   "display_name": "base",
   "language": "python",
   "name": "python3"
  },
  "language_info": {
   "codemirror_mode": {
    "name": "ipython",
    "version": 3
   },
   "file_extension": ".py",
   "mimetype": "text/x-python",
   "name": "python",
   "nbconvert_exporter": "python",
   "pygments_lexer": "ipython3",
   "version": "3.9.12"
  },
  "orig_nbformat": 4,
  "vscode": {
   "interpreter": {
    "hash": "a0fe550d9f350e4ff3166ed89efd9beb6594ff5a4731290fde5349d1c38683ec"
   }
  }
 },
 "nbformat": 4,
 "nbformat_minor": 2
}
